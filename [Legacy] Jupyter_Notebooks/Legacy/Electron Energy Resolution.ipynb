{
 "cells": [
  {
   "cell_type": "markdown",
   "metadata": {},
   "source": [
    "Import relevant libraries & use uproot to open it."
   ]
  },
  {
   "cell_type": "code",
   "execution_count": 1,
   "metadata": {},
   "outputs": [],
   "source": [
    "import uproot\n",
    "import pandas\n",
    "import matplotlib.pyplot as plt\n",
    "import numpy as np\n",
    "\n",
    "tree = uproot.open(\"outRunNeutron.root\")[\"dstree\"]"
   ]
  },
  {
   "cell_type": "markdown",
   "metadata": {},
   "source": [
    "# Opening and preparing the data\n"
   ]
  },
  {
   "cell_type": "markdown",
   "metadata": {},
   "source": [
    "The different variables contained within the tree."
   ]
  },
  {
   "cell_type": "code",
   "execution_count": 2,
   "metadata": {
    "scrolled": true
   },
   "outputs": [
    {
     "name": "stdout",
     "output_type": "stream",
     "text": [
      "ev                         (no streamer)              asdtype('>i4')\n",
      "pdg                        (no streamer)              asdtype('>i4')\n",
      "ene0                       (no streamer)              asdtype('>f4')\n",
      "s1ene                      (no streamer)              asdtype('>f4')\n",
      "s2ene                      (no streamer)              asdtype('>f4')\n",
      "veto_visene                (no streamer)              asdtype('>f4')\n",
      "mu_visene                  (no streamer)              asdtype('>f4')\n",
      "tpcene                     (no streamer)              asdtype('>f4')\n",
      "vetoene                    (no streamer)              asdtype('>f4')\n",
      "muene                      (no streamer)              asdtype('>f4')\n",
      "ene                        (no streamer)              asdtype('>f4')\n",
      "x                          (no streamer)              asdtype('>f4')\n",
      "y                          (no streamer)              asdtype('>f4')\n",
      "z                          (no streamer)              asdtype('>f4')\n",
      "r                          (no streamer)              asdtype('>f4')\n",
      "px                         (no streamer)              asdtype('>f4')\n",
      "py                         (no streamer)              asdtype('>f4')\n",
      "pz                         (no streamer)              asdtype('>f4')\n",
      "bx                         (no streamer)              asdtype('>f4')\n",
      "by                         (no streamer)              asdtype('>f4')\n",
      "bz                         (no streamer)              asdtype('>f4')\n",
      "npeS1                      (no streamer)              asdtype('>i4')\n",
      "npeS2                      (no streamer)              asdtype('>i4')\n",
      "npe                        (no streamer)              asdtype('>i4')\n",
      "munpe                      (no streamer)              asdtype('>i4')\n",
      "vnpe                       (no streamer)              asdtype('>i4')\n",
      "nph                        (no streamer)              asdtype('>i4')\n",
      "ndaughters                 (no streamer)              asdtype('>i4')\n",
      "ndeposits                  (no streamer)              asdtype('>i4')\n",
      "nusers                     (no streamer)              asdtype('>i4')\n",
      "dau_id                     (no streamer)              asjagged(asdtype('>i4'))\n",
      "dau_pdg                    (no streamer)              asjagged(asdtype('>i4'))\n",
      "dau_pid                    (no streamer)              asjagged(asdtype('>i4'))\n",
      "dau_process                (no streamer)              asjagged(asdtype('>i4'))\n",
      "dau_time                   (no streamer)              asjagged(asdtype('>f8'))\n",
      "dau_ene                    (no streamer)              asjagged(asdtype('>f4'))\n",
      "dau_x                      (no streamer)              asjagged(asdtype('>f4'))\n",
      "dau_y                      (no streamer)              asjagged(asdtype('>f4'))\n",
      "dau_z                      (no streamer)              asjagged(asdtype('>f4'))\n",
      "dau_r                      (no streamer)              asjagged(asdtype('>f4'))\n",
      "dau_px                     (no streamer)              asjagged(asdtype('>f4'))\n",
      "dau_py                     (no streamer)              asjagged(asdtype('>f4'))\n",
      "dau_pz                     (no streamer)              asjagged(asdtype('>f4'))\n",
      "dep_pdg                    (no streamer)              asjagged(asdtype('>i4'))\n",
      "dep_mat                    (no streamer)              asjagged(asdtype('>i4'))\n",
      "dep_time                   (no streamer)              asjagged(asdtype('>f8'))\n",
      "dep_ene                    (no streamer)              asjagged(asdtype('>f4'))\n",
      "dep_step                   (no streamer)              asjagged(asdtype('>f4'))\n",
      "dep_x                      (no streamer)              asjagged(asdtype('>f4'))\n",
      "dep_y                      (no streamer)              asjagged(asdtype('>f4'))\n",
      "dep_z                      (no streamer)              asjagged(asdtype('>f4'))\n",
      "dep_r                      (no streamer)              asjagged(asdtype('>f4'))\n",
      "userint1                   (no streamer)              asjagged(asdtype('>i4'))\n",
      "userint2                   (no streamer)              asjagged(asdtype('>i4'))\n",
      "userfloat1                 (no streamer)              asjagged(asdtype('>f4'))\n",
      "userfloat2                 (no streamer)              asjagged(asdtype('>f4'))\n",
      "userdouble0                (no streamer)              asjagged(asdtype('>f8'))\n",
      "pe_time                    (no streamer)              asjagged(asdtype('>f8'))\n",
      "pe_pmt                     (no streamer)              asjagged(asdtype('>i4'))\n",
      "vpe_time                   (no streamer)              asjagged(asdtype('>f8'))\n",
      "vpe_pmt                    (no streamer)              asjagged(asdtype('>i4'))\n",
      "mupe_time                  (no streamer)              asjagged(asdtype('>f8'))\n",
      "mupe_pmt                   (no streamer)              asjagged(asdtype('>i4'))\n",
      "ph_volume                  (no streamer)              asjagged(asdtype('>i4'))\n",
      "ph_pid                     (no streamer)              asjagged(asdtype('>i4'))\n",
      "ph_wl                      (no streamer)              asjagged(asdtype('>f4'))\n",
      "ph_x                       (no streamer)              asjagged(asdtype('>f4'))\n",
      "ph_y                       (no streamer)              asjagged(asdtype('>f4'))\n",
      "ph_z                       (no streamer)              asjagged(asdtype('>f4'))\n",
      "ph_time                    (no streamer)              asjagged(asdtype('>f8'))\n"
     ]
    }
   ],
   "source": [
    "tree.show()"
   ]
  },
  {
   "cell_type": "markdown",
   "metadata": {},
   "source": [
    "## Getting the x and y variables"
   ]
  },
  {
   "cell_type": "markdown",
   "metadata": {},
   "source": [
    "From the list of variables stored in the root file, we can extract the relevant variables we would like to use to create a 2D histogram. Some of these variables may require further manipulation, and this is also done here."
   ]
  },
  {
   "cell_type": "code",
   "execution_count": 3,
   "metadata": {
    "scrolled": true
   },
   "outputs": [
    {
     "data": {
      "image/png": "[encoded data removed]",
      "text/plain": [
       "<Figure size 432x288 with 1 Axes>"
      ]
     },
     "metadata": {
      "needs_background": "light"
     },
     "output_type": "display_data"
    }
   ],
   "source": [
    "ene0 = tree.array(\"ene0\")\n",
    "vetoene = tree.array(\"vetoene\")\n",
    "x = tree.array(\"dep_x\")\n",
    "y = tree.array(\"dep_y\")\n",
    "#x.flatten()\n",
    "\n",
    "ene0_veto = []\n",
    "pos = []\n",
    "for i in range(len(x)):\n",
    "    for j in range(len(x[i])):\n",
    "        ene0_veto.append((ene0[i]/(vetoene[i]+ 0.01)))\n",
    "        pos.append(np.sqrt((x[i][j]*x[i][j])+(y[i][j]*y[i][j])))\n",
    "\n",
    "#for k in range(len(ene0)):\n",
    "#    ene0_veto.append((ene0[k]/(vetoene[k]+ 0.01)))\n",
    "#    pos.append(np.sqrt((x[k]*x[k])+(y[k]*y[k])))\n",
    "\n",
    "#print(len(ene0_veto))\n",
    "#print(len(pos))\n",
    "a1 = np.array(ene0_veto)\n",
    "a2 = np.array(pos)\n",
    "train = np.matrix([a1,a2])\n",
    "train = train.T\n",
    "#print(x)\n",
    "train = np.array(train)\n",
    "plt.hist(ene0_veto, bins = 100)\n",
    "#plt.hist(y, bins = 100)\n",
    "#plt.hist2d(a1, a2, bins=100, cmap=plt.cm.BuPu, cmin = 1)\n",
    "plt.show()\n",
    "#print(train.shape)\n",
    "#plt.hist(x, bins = 100)"
   ]
  },
  {
   "cell_type": "markdown",
   "metadata": {},
   "source": [
    "Normalisation: \n",
    "Divide values by xdiv and div to get close to one"
   ]
  },
  {
   "cell_type": "code",
   "execution_count": 4,
   "metadata": {},
   "outputs": [
    {
     "data": {
      "text/plain": [
       "(array([[0., 0., 0., ..., 0., 0., 0.],\n",
       "        [0., 0., 0., ..., 0., 0., 0.],\n",
       "        [0., 0., 0., ..., 0., 0., 0.],\n",
       "        ...,\n",
       "        [0., 0., 0., ..., 0., 0., 0.],\n",
       "        [0., 0., 0., ..., 0., 0., 0.],\n",
       "        [0., 0., 0., ..., 0., 0., 0.]]),\n",
       " array([0.5 , 0.51, 0.52, 0.53, 0.54, 0.55, 0.56, 0.57, 0.58, 0.59, 0.6 ,\n",
       "        0.61, 0.62, 0.63, 0.64, 0.65, 0.66, 0.67, 0.68, 0.69, 0.7 , 0.71,\n",
       "        0.72, 0.73, 0.74, 0.75, 0.76, 0.77, 0.78, 0.79, 0.8 , 0.81, 0.82,\n",
       "        0.83, 0.84, 0.85, 0.86, 0.87, 0.88, 0.89, 0.9 , 0.91, 0.92, 0.93,\n",
       "        0.94, 0.95, 0.96, 0.97, 0.98, 0.99, 1.  , 1.01, 1.02, 1.03, 1.04,\n",
       "        1.05, 1.06, 1.07, 1.08, 1.09, 1.1 , 1.11, 1.12, 1.13, 1.14, 1.15,\n",
       "        1.16, 1.17, 1.18, 1.19, 1.2 , 1.21, 1.22, 1.23, 1.24, 1.25, 1.26,\n",
       "        1.27, 1.28, 1.29, 1.3 , 1.31, 1.32, 1.33, 1.34, 1.35, 1.36, 1.37,\n",
       "        1.38, 1.39, 1.4 , 1.41, 1.42, 1.43, 1.44, 1.45, 1.46, 1.47, 1.48,\n",
       "        1.49, 1.5 ]),\n",
       " array([0.  , 0.01, 0.02, 0.03, 0.04, 0.05, 0.06, 0.07, 0.08, 0.09, 0.1 ,\n",
       "        0.11, 0.12, 0.13, 0.14, 0.15, 0.16, 0.17, 0.18, 0.19, 0.2 , 0.21,\n",
       "        0.22, 0.23, 0.24, 0.25, 0.26, 0.27, 0.28, 0.29, 0.3 , 0.31, 0.32,\n",
       "        0.33, 0.34, 0.35, 0.36, 0.37, 0.38, 0.39, 0.4 , 0.41, 0.42, 0.43,\n",
       "        0.44, 0.45, 0.46, 0.47, 0.48, 0.49, 0.5 , 0.51, 0.52, 0.53, 0.54,\n",
       "        0.55, 0.56, 0.57, 0.58, 0.59, 0.6 , 0.61, 0.62, 0.63, 0.64, 0.65,\n",
       "        0.66, 0.67, 0.68, 0.69, 0.7 , 0.71, 0.72, 0.73, 0.74, 0.75, 0.76,\n",
       "        0.77, 0.78, 0.79, 0.8 , 0.81, 0.82, 0.83, 0.84, 0.85, 0.86, 0.87,\n",
       "        0.88, 0.89, 0.9 , 0.91, 0.92, 0.93, 0.94, 0.95, 0.96, 0.97, 0.98,\n",
       "        0.99, 1.  ]),\n",
       " <matplotlib.collections.QuadMesh at 0x195fe1665c8>)"
      ]
     },
     "execution_count": 4,
     "metadata": {},
     "output_type": "execute_result"
    },
    {
     "data": {
      "image/png": "[encoded data removed]",
      "text/plain": [
       "<Figure size 432x288 with 1 Axes>"
      ]
     },
     "metadata": {
      "needs_background": "light"
     },
     "output_type": "display_data"
    }
   ],
   "source": [
    "#saves the values we are dividing by.\n",
    "a1max = np.amax(a1)\n",
    "a2max = np.amax(a2)\n",
    "#Normalises the values\n",
    "a1 = a1/np.amax(a1)\n",
    "a2 = a2/np.amax(a2)\n",
    "\n",
    "train = np.matrix([a1,a2])\n",
    "train = train.T\n",
    "\n",
    "plt.hist2d(a1, a2, bins=100, cmap=plt.cm.BuPu)"
   ]
  },
  {
   "cell_type": "markdown",
   "metadata": {},
   "source": [
    "Training Dataset is the x variable."
   ]
  },
  {
   "cell_type": "code",
   "execution_count": 5,
   "metadata": {},
   "outputs": [],
   "source": [
    "#  Model dependent constants\n",
    "#  Define model PDF\n",
    "\n",
    "#The range of the model\n",
    "#x_range_min, x_range_max = 0, 300\n",
    "#y_range_min, y_range_max = 0.5, 1.5\n",
    "#The range being plot\n",
    "#x_range_width = x_range_max - x_range_min\n",
    "#y_range_width = y_range_max - y_range_min"
   ]
  },
  {
   "cell_type": "code",
   "execution_count": 6,
   "metadata": {},
   "outputs": [],
   "source": [
    "num_train = int(1e3)\n",
    "noise_size = 1000\n",
    "epochs     = 10000\n",
    "batch_size = 16"
   ]
  },
  {
   "cell_type": "code",
   "execution_count": 7,
   "metadata": {},
   "outputs": [
    {
     "name": "stderr",
     "output_type": "stream",
     "text": [
      "Using TensorFlow backend.\n"
     ]
    },
    {
     "ename": "AttributeError",
     "evalue": "module 'tensorflow' has no attribute 'get_default_graph'",
     "output_type": "error",
     "traceback": [
      "\u001b[1;31m---------------------------------------------------------------------------\u001b[0m",
      "\u001b[1;31mAttributeError\u001b[0m                            Traceback (most recent call last)",
      "\u001b[1;32m<ipython-input-7-7ac0f0863e8f>\u001b[0m in \u001b[0;36m<module>\u001b[1;34m\u001b[0m\n\u001b[0;32m      8\u001b[0m \u001b[1;31m#See how number of neurons are sae for each layer to reduce number of hyperparameters\u001b[0m\u001b[1;33m\u001b[0m\u001b[1;33m\u001b[0m\u001b[1;33m\u001b[0m\u001b[0m\n\u001b[0;32m      9\u001b[0m \u001b[0md\u001b[0m \u001b[1;33m=\u001b[0m \u001b[0mSequential\u001b[0m\u001b[1;33m(\u001b[0m\u001b[0mname\u001b[0m\u001b[1;33m=\u001b[0m\u001b[1;34m\"Discriminator\"\u001b[0m\u001b[1;33m)\u001b[0m\u001b[1;33m\u001b[0m\u001b[1;33m\u001b[0m\u001b[0m\n\u001b[1;32m---> 10\u001b[1;33m \u001b[0md\u001b[0m\u001b[1;33m.\u001b[0m\u001b[0madd\u001b[0m\u001b[1;33m(\u001b[0m\u001b[0mDense\u001b[0m\u001b[1;33m(\u001b[0m\u001b[1;36m50\u001b[0m\u001b[1;33m,\u001b[0m \u001b[0mactivation\u001b[0m\u001b[1;33m=\u001b[0m\u001b[1;34m\"relu\"\u001b[0m\u001b[1;33m,\u001b[0m \u001b[0minput_shape\u001b[0m\u001b[1;33m=\u001b[0m\u001b[1;33m(\u001b[0m\u001b[1;36m2\u001b[0m\u001b[1;33m,\u001b[0m\u001b[1;33m)\u001b[0m\u001b[1;33m)\u001b[0m\u001b[1;33m)\u001b[0m\u001b[1;33m\u001b[0m\u001b[1;33m\u001b[0m\u001b[0m\n\u001b[0m\u001b[0;32m     11\u001b[0m \u001b[1;31m#Input shape would be number of parameters\u001b[0m\u001b[1;33m\u001b[0m\u001b[1;33m\u001b[0m\u001b[1;33m\u001b[0m\u001b[0m\n\u001b[0;32m     12\u001b[0m \u001b[0md\u001b[0m\u001b[1;33m.\u001b[0m\u001b[0madd\u001b[0m\u001b[1;33m(\u001b[0m\u001b[0mDense\u001b[0m\u001b[1;33m(\u001b[0m\u001b[1;36m50\u001b[0m\u001b[1;33m,\u001b[0m \u001b[0mactivation\u001b[0m\u001b[1;33m=\u001b[0m\u001b[1;34m\"relu\"\u001b[0m\u001b[1;33m)\u001b[0m\u001b[1;33m)\u001b[0m\u001b[1;33m\u001b[0m\u001b[1;33m\u001b[0m\u001b[0m\n",
      "\u001b[1;32m~\\Anaconda3\\lib\\site-packages\\keras\\legacy\\interfaces.py\u001b[0m in \u001b[0;36mwrapper\u001b[1;34m(*args, **kwargs)\u001b[0m\n\u001b[0;32m     89\u001b[0m                 warnings.warn('Update your `' + object_name + '` call to the ' +\n\u001b[0;32m     90\u001b[0m                               'Keras 2 API: ' + signature, stacklevel=2)\n\u001b[1;32m---> 91\u001b[1;33m             \u001b[1;32mreturn\u001b[0m \u001b[0mfunc\u001b[0m\u001b[1;33m(\u001b[0m\u001b[1;33m*\u001b[0m\u001b[0margs\u001b[0m\u001b[1;33m,\u001b[0m \u001b[1;33m**\u001b[0m\u001b[0mkwargs\u001b[0m\u001b[1;33m)\u001b[0m\u001b[1;33m\u001b[0m\u001b[1;33m\u001b[0m\u001b[0m\n\u001b[0m\u001b[0;32m     92\u001b[0m         \u001b[0mwrapper\u001b[0m\u001b[1;33m.\u001b[0m\u001b[0m_original_function\u001b[0m \u001b[1;33m=\u001b[0m \u001b[0mfunc\u001b[0m\u001b[1;33m\u001b[0m\u001b[1;33m\u001b[0m\u001b[0m\n\u001b[0;32m     93\u001b[0m         \u001b[1;32mreturn\u001b[0m \u001b[0mwrapper\u001b[0m\u001b[1;33m\u001b[0m\u001b[1;33m\u001b[0m\u001b[0m\n",
      "\u001b[1;32m~\\Anaconda3\\lib\\site-packages\\keras\\layers\\core.py\u001b[0m in \u001b[0;36m__init__\u001b[1;34m(self, units, activation, use_bias, kernel_initializer, bias_initializer, kernel_regularizer, bias_regularizer, activity_regularizer, kernel_constraint, bias_constraint, **kwargs)\u001b[0m\n\u001b[0;32m    842\u001b[0m         \u001b[1;32mif\u001b[0m \u001b[1;34m'input_shape'\u001b[0m \u001b[1;32mnot\u001b[0m \u001b[1;32min\u001b[0m \u001b[0mkwargs\u001b[0m \u001b[1;32mand\u001b[0m \u001b[1;34m'input_dim'\u001b[0m \u001b[1;32min\u001b[0m \u001b[0mkwargs\u001b[0m\u001b[1;33m:\u001b[0m\u001b[1;33m\u001b[0m\u001b[1;33m\u001b[0m\u001b[0m\n\u001b[0;32m    843\u001b[0m             \u001b[0mkwargs\u001b[0m\u001b[1;33m[\u001b[0m\u001b[1;34m'input_shape'\u001b[0m\u001b[1;33m]\u001b[0m \u001b[1;33m=\u001b[0m \u001b[1;33m(\u001b[0m\u001b[0mkwargs\u001b[0m\u001b[1;33m.\u001b[0m\u001b[0mpop\u001b[0m\u001b[1;33m(\u001b[0m\u001b[1;34m'input_dim'\u001b[0m\u001b[1;33m)\u001b[0m\u001b[1;33m,\u001b[0m\u001b[1;33m)\u001b[0m\u001b[1;33m\u001b[0m\u001b[1;33m\u001b[0m\u001b[0m\n\u001b[1;32m--> 844\u001b[1;33m         \u001b[0msuper\u001b[0m\u001b[1;33m(\u001b[0m\u001b[0mDense\u001b[0m\u001b[1;33m,\u001b[0m \u001b[0mself\u001b[0m\u001b[1;33m)\u001b[0m\u001b[1;33m.\u001b[0m\u001b[0m__init__\u001b[0m\u001b[1;33m(\u001b[0m\u001b[1;33m**\u001b[0m\u001b[0mkwargs\u001b[0m\u001b[1;33m)\u001b[0m\u001b[1;33m\u001b[0m\u001b[1;33m\u001b[0m\u001b[0m\n\u001b[0m\u001b[0;32m    845\u001b[0m         \u001b[0mself\u001b[0m\u001b[1;33m.\u001b[0m\u001b[0munits\u001b[0m \u001b[1;33m=\u001b[0m \u001b[0munits\u001b[0m\u001b[1;33m\u001b[0m\u001b[1;33m\u001b[0m\u001b[0m\n\u001b[0;32m    846\u001b[0m         \u001b[0mself\u001b[0m\u001b[1;33m.\u001b[0m\u001b[0mactivation\u001b[0m \u001b[1;33m=\u001b[0m \u001b[0mactivations\u001b[0m\u001b[1;33m.\u001b[0m\u001b[0mget\u001b[0m\u001b[1;33m(\u001b[0m\u001b[0mactivation\u001b[0m\u001b[1;33m)\u001b[0m\u001b[1;33m\u001b[0m\u001b[1;33m\u001b[0m\u001b[0m\n",
      "\u001b[1;32m~\\Anaconda3\\lib\\site-packages\\keras\\engine\\base_layer.py\u001b[0m in \u001b[0;36m__init__\u001b[1;34m(self, **kwargs)\u001b[0m\n\u001b[0;32m    130\u001b[0m         \u001b[1;32mif\u001b[0m \u001b[1;32mnot\u001b[0m \u001b[0mname\u001b[0m\u001b[1;33m:\u001b[0m\u001b[1;33m\u001b[0m\u001b[1;33m\u001b[0m\u001b[0m\n\u001b[0;32m    131\u001b[0m             \u001b[0mprefix\u001b[0m \u001b[1;33m=\u001b[0m \u001b[0mself\u001b[0m\u001b[1;33m.\u001b[0m\u001b[0m__class__\u001b[0m\u001b[1;33m.\u001b[0m\u001b[0m__name__\u001b[0m\u001b[1;33m\u001b[0m\u001b[1;33m\u001b[0m\u001b[0m\n\u001b[1;32m--> 132\u001b[1;33m             \u001b[0mname\u001b[0m \u001b[1;33m=\u001b[0m \u001b[0m_to_snake_case\u001b[0m\u001b[1;33m(\u001b[0m\u001b[0mprefix\u001b[0m\u001b[1;33m)\u001b[0m \u001b[1;33m+\u001b[0m \u001b[1;34m'_'\u001b[0m \u001b[1;33m+\u001b[0m \u001b[0mstr\u001b[0m\u001b[1;33m(\u001b[0m\u001b[0mK\u001b[0m\u001b[1;33m.\u001b[0m\u001b[0mget_uid\u001b[0m\u001b[1;33m(\u001b[0m\u001b[0mprefix\u001b[0m\u001b[1;33m)\u001b[0m\u001b[1;33m)\u001b[0m\u001b[1;33m\u001b[0m\u001b[1;33m\u001b[0m\u001b[0m\n\u001b[0m\u001b[0;32m    133\u001b[0m         \u001b[0mself\u001b[0m\u001b[1;33m.\u001b[0m\u001b[0mname\u001b[0m \u001b[1;33m=\u001b[0m \u001b[0mname\u001b[0m\u001b[1;33m\u001b[0m\u001b[1;33m\u001b[0m\u001b[0m\n\u001b[0;32m    134\u001b[0m \u001b[1;33m\u001b[0m\u001b[0m\n",
      "\u001b[1;32m~\\Anaconda3\\lib\\site-packages\\keras\\backend\\tensorflow_backend.py\u001b[0m in \u001b[0;36mget_uid\u001b[1;34m(prefix)\u001b[0m\n\u001b[0;32m     72\u001b[0m     \"\"\"\n\u001b[0;32m     73\u001b[0m     \u001b[1;32mglobal\u001b[0m \u001b[0m_GRAPH_UID_DICTS\u001b[0m\u001b[1;33m\u001b[0m\u001b[1;33m\u001b[0m\u001b[0m\n\u001b[1;32m---> 74\u001b[1;33m     \u001b[0mgraph\u001b[0m \u001b[1;33m=\u001b[0m \u001b[0mtf\u001b[0m\u001b[1;33m.\u001b[0m\u001b[0mget_default_graph\u001b[0m\u001b[1;33m(\u001b[0m\u001b[1;33m)\u001b[0m\u001b[1;33m\u001b[0m\u001b[1;33m\u001b[0m\u001b[0m\n\u001b[0m\u001b[0;32m     75\u001b[0m     \u001b[1;32mif\u001b[0m \u001b[0mgraph\u001b[0m \u001b[1;32mnot\u001b[0m \u001b[1;32min\u001b[0m \u001b[0m_GRAPH_UID_DICTS\u001b[0m\u001b[1;33m:\u001b[0m\u001b[1;33m\u001b[0m\u001b[1;33m\u001b[0m\u001b[0m\n\u001b[0;32m     76\u001b[0m         \u001b[0m_GRAPH_UID_DICTS\u001b[0m\u001b[1;33m[\u001b[0m\u001b[0mgraph\u001b[0m\u001b[1;33m]\u001b[0m \u001b[1;33m=\u001b[0m \u001b[0mdefaultdict\u001b[0m\u001b[1;33m(\u001b[0m\u001b[0mint\u001b[0m\u001b[1;33m)\u001b[0m\u001b[1;33m\u001b[0m\u001b[1;33m\u001b[0m\u001b[0m\n",
      "\u001b[1;31mAttributeError\u001b[0m: module 'tensorflow' has no attribute 'get_default_graph'"
     ]
    }
   ],
   "source": [
    "#  Create GAN\n",
    "\n",
    "from keras.layers     import BatchNormalization, Dense, Dropout, Input, LeakyReLU\n",
    "from keras.models     import Model, Sequential\n",
    "from keras.optimizers import Adam\n",
    "\n",
    "#Discriminator\n",
    "#See how number of neurons are sae for each layer to reduce number of hyperparameters\n",
    "d = Sequential(name=\"Discriminator\")\n",
    "d.add(Dense(50, activation=\"relu\", input_shape=(2,)))\n",
    "#Input shape would be number of parameters\n",
    "d.add(Dense(50, activation=\"relu\"))\n",
    "d.add(Dense(50))\n",
    "d.add(Dense(50, activation=\"relu\"))\n",
    "d.add(Dense(50))\n",
    "d.add(LeakyReLU(0.2))\n",
    "d.add(Dense(2, activation=\"softmax\"))\n",
    "d.compile(loss=\"categorical_crossentropy\", optimizer=Adam(0.0002, beta_1=0.3), metrics=[\"accuracy\"])\n",
    "d.summary()\n",
    "\n",
    "g = Sequential(name=\"Generator\")\n",
    "g.add(Dense(50, activation=\"relu\", input_shape=(noise_size,)))\n",
    "g.add(BatchNormalization())\n",
    "g.add(Dense(50, activation=\"relu\"))\n",
    "g.add(BatchNormalization())\n",
    "g.add(Dense(50, activation=\"relu\"))\n",
    "g.add(BatchNormalization())\n",
    "#THe number of ourputs here should be the number of dimensions\n",
    "g.add(Dense(2, activation=\"linear\"))\n",
    "g.summary()\n",
    "\n",
    "input_layer = Input((noise_size,))\n",
    "output_layer = d(g(input_layer))\n",
    "gan = Model(input_layer, output_layer)\n",
    "d.trainable = False\n",
    "gan.compile(loss=\"categorical_crossentropy\", optimizer=Adam(0.0002, beta_1=0.3), metrics=[\"accuracy\"])\n",
    "gan.summary()"
   ]
  },
  {
   "cell_type": "code",
   "execution_count": null,
   "metadata": {},
   "outputs": [],
   "source": [
    "#  Func: plot GAN progress\n",
    "\n",
    "def plot_points_GAN (data, label, epoch, batch_size, d_acc, gan_acc) :\n",
    "    \n",
    "    #y = plt.hist(train_DS, alpha = 0.3,density = True, label = 'Real Data')\n",
    "    #x = np.linspace(range_min, range_max, 200)\n",
    "    #h = plt.hist2d(data, bins=np.linspace(range_min, range_max, 1+int(range_width/plot_resolution)), color=\"blue\", alpha=0.6,density = True, label=label)\n",
    "    #plt.legend(loc=\"upper right\", fontsize=14)\n",
    "    #plt.xlabel(\"x\", size=14, labelpad=10)\n",
    "    #y_max = 1.5*max([max(y),max(h[0])])\n",
    "    #y_max = 0.08\n",
    "    #plt.ylabel(r\"$\\rho\\left(x\\right)$\", size=14, labelpad=30, rotation=\"horizontal\")\n",
    "    #plt.gca().set_xlim([range_min-0.1*range_width, range_max+0.1*range_width])\n",
    "    '''plt.text(range_min+0.*1.1*range_width   , 0.84*y_max, \"GAN test\", size=18, style=\"italic\", weight=\"bold\")\n",
    "    plt.text(range_min+0.750*1.1*range_width, 0.68*y_max, f\"Epoch: {epoch}\")\n",
    "    plt.text(range_min+0.683*1.1*range_width, 0.61*y_max, f\"Batch size: {batch_size}\")\n",
    "    plt.text(range_min+0.780*1.1*range_width, 0.54*y_max, r\"$\\epsilon_{\\rm disc}$: \"+f\"{int(100.*d_acc)}%\")\n",
    "    plt.text(range_min+0.780*(range_max-range_min), 0.47*y_max, r\"$\\epsilon_{\\rm GAN}$: \"+f\"{int(100.*gan_acc)}%\")\n",
    "    '''\n",
    "    h = plt.imshow(data)\n",
    "    plt.subplots_adjust(left=0.18, right=0.98, top=0.95, bottom=0.15)\n",
    "    plt.savefig(\"Train_epoch{epoch}.png\", dpi=96)\n",
    "    plt.show()"
   ]
  },
  {
   "cell_type": "code",
   "execution_count": null,
   "metadata": {},
   "outputs": [],
   "source": [
    "#  Train GAN\n",
    "\n",
    "epochs     = 10000\n",
    "batch_size = 16\n",
    "max_D_itrs_per_G_itr_e70 = 4\n",
    "max_D_itrs_per_G_itr_e52 = 3\n",
    "\n",
    "\n",
    "def update_batch_size (gen_DS) :\n",
    "    global batch_size\n",
    "    batch_size = min(100+batch_size, num_train)\n",
    "    \n",
    "    epochs_saved = []"
   ]
  },
  {
   "cell_type": "code",
   "execution_count": null,
   "metadata": {},
   "outputs": [],
   "source": [
    "def noisegenerator(batch_size, noise_size):\n",
    "    return np.random.uniform(low = -1, high = 1, size=(batch_size, noise_size))"
   ]
  },
  {
   "cell_type": "code",
   "execution_count": null,
   "metadata": {
    "scrolled": true
   },
   "outputs": [],
   "source": [
    "import tensorflow as tf\n",
    "epochs_saved = []\n",
    "loss = []\n",
    "epoch_no = []\n",
    "for e in range(epochs) :\n",
    "    noise  = noisegenerator(batch_size, noise_size)\n",
    "    #Get the real and fake data\n",
    "    #train = train.reshape(2,1000)\n",
    "    batch_DS = train[np.random.choice(train.shape[0], batch_size, replace=False), :]\n",
    "    #batch_DS = train[np.random.randint(0, len(train), batch_size)].reshape(batch_size, 2)\n",
    "    #fake data made from predicting noise\n",
    "    #print(batch_DS)\n",
    "    gen_DS   = g.predict(noise).reshape(batch_size, 2)\n",
    "    \n",
    "    #Real data has label [1.,0]\n",
    "    real_label = np.array([[1., 0.] for i in range(batch_size)])\n",
    "    \n",
    "    #Fake data has label [0.,1.]\n",
    "    fake_label = np.array([[0., 1.] for i in range(batch_size)])\n",
    "    \n",
    "    #Combine real and generated data\n",
    "    X = np.concatenate([batch_DS  , gen_DS    ])\n",
    "    Y = np.concatenate([real_label, fake_label])\n",
    "    \n",
    "    d.trainable = True\n",
    "    d_loss, d_acc = d.train_on_batch(X, Y)\n",
    "    num_itr = 0\n",
    "    while num_itr < max_D_itrs_per_G_itr_e70 and d_acc < 0.7 :\n",
    "        d_loss, d_acc = d.train_on_batch(X, Y)\n",
    "        num_itr = num_itr + 1\n",
    "    while num_itr < max_D_itrs_per_G_itr_e52 and d_acc < 0.52 :\n",
    "        d_loss, d_acc = d.train_on_batch(X, Y)\n",
    "        num_itr = num_itr + 1\n",
    "        \n",
    "    noise  = noisegenerator(batch_size, noise_size)\n",
    "    d.trainable = False\n",
    "    gan.train_on_batch(noise, real_label)\n",
    "    \n",
    "    if e == 0 or (e+1) % 100 == 0 :\n",
    "        noise  = noisegenerator(batch_size, noise_size)\n",
    "        gen_DS = g.predict(noise)\n",
    "        print(d.evaluate(X, Y, verbose=0)[1])\n",
    "        epoch_no.append(e)\n",
    "        loss.append(d.evaluate(X, Y, verbose=0)[1])\n",
    "        #x, y = np.hsplit(gen_DS, 2)\n",
    "        x = np.asarray(gen_DS)[:,0]\n",
    "        y = np.asarray(gen_DS)[:,1]\n",
    "        plt.hist2d(x*a1max, y*a2max, bins=100, cmap=plt.cm.BuPu)\n",
    "        plt.show()\n",
    "        \"\"\"plot_points_GAN(gen_DS, f\"Generated data\", \n",
    "                    epoch=e+1, \n",
    "                    batch_size=batch_size, \n",
    "                    d_acc=d.evaluate(X, Y, verbose=0)[1], \n",
    "                    gan_acc=gan.evaluate(noise, real_label, verbose=0)[1])\n",
    "                    \"\"\"\n",
    "        update_batch_size(gen_DS)\n",
    "        epochs_saved.append(e+1)"
   ]
  },
  {
   "cell_type": "code",
   "execution_count": null,
   "metadata": {},
   "outputs": [],
   "source": [
    "plt.plot(epoch_no,loss)"
   ]
  },
  {
   "cell_type": "code",
   "execution_count": null,
   "metadata": {},
   "outputs": [],
   "source": []
  }
 ],
 "metadata": {
  "kernelspec": {
   "display_name": "Python 3",
   "language": "python",
   "name": "python3"
  },
  "language_info": {
   "codemirror_mode": {
    "name": "ipython",
    "version": 3
   },
   "file_extension": ".py",
   "mimetype": "text/x-python",
   "name": "python",
   "nbconvert_exporter": "python",
   "pygments_lexer": "ipython3",
   "version": "3.7.4"
  }
 },
 "nbformat": 4,
 "nbformat_minor": 2
}
